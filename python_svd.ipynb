{
 "cells": [
  {
   "cell_type": "code",
   "execution_count": 2,
   "metadata": {
    "collapsed": true
   },
   "outputs": [],
   "source": [
    "import pandas as pd\n",
    "import numpy as np\n",
    "from surprise import Reader, Dataset, SVD, evaluate\n",
    "import matplotlib.pyplot as plt"
   ]
  },
  {
   "cell_type": "markdown",
   "metadata": {},
   "source": [
    "# Read data from four files and then merge together"
   ]
  },
  {
   "cell_type": "code",
   "execution_count": null,
   "metadata": {
    "collapsed": true
   },
   "outputs": [],
   "source": [
    "results = []\n",
    "with open('combined_data_1.txt') as inputfile:\n",
    "    for line in inputfile:\n",
    "        results.append(line.strip().split(','))\n",
    "\n",
    "df1= pd.DataFrame(data=results)\n",
    "df1.columns = ['Customer ID', 'Rating', 'Date']"
   ]
  },
  {
   "cell_type": "code",
   "execution_count": null,
   "metadata": {
    "collapsed": true
   },
   "outputs": [],
   "source": [
    "results = []\n",
    "with open('combined_data_2.txt') as inputfile:\n",
    "    for line in inputfile:\n",
    "        results.append(line.strip().split(','))\n",
    "\n",
    "df2= pd.DataFrame(data=results)\n",
    "df2.columns = ['Customer ID', 'Rating', 'Date']"
   ]
  },
  {
   "cell_type": "code",
   "execution_count": null,
   "metadata": {
    "collapsed": true
   },
   "outputs": [],
   "source": [
    "results = []\n",
    "with open('combined_data_3.txt') as inputfile:\n",
    "    for line in inputfile:\n",
    "        results.append(line.strip().split(','))\n",
    "\n",
    "df3= pd.DataFrame(data=results)\n",
    "df3.columns = ['Customer ID', 'Rating', 'Date']"
   ]
  },
  {
   "cell_type": "code",
   "execution_count": null,
   "metadata": {
    "collapsed": true
   },
   "outputs": [],
   "source": [
    "results = []\n",
    "with open('combined_data_4.txt') as inputfile:\n",
    "    for line in inputfile:\n",
    "        results.append(line.strip().split(','))\n",
    "\n",
    "df4= pd.DataFrame(data=results)\n",
    "df4.columns = ['Customer ID', 'Rating', 'Date']"
   ]
  },
  {
   "cell_type": "code",
   "execution_count": null,
   "metadata": {},
   "outputs": [],
   "source": [
    "df= df1.append(df2)\n",
    "df= df.append(df3)\n",
    "df= df.append(df4)"
   ]
  },
  {
   "cell_type": "markdown",
   "metadata": {},
   "source": [
    "# Add movie ID label to each rating"
   ]
  },
  {
   "cell_type": "code",
   "execution_count": null,
   "metadata": {
    "collapsed": true
   },
   "outputs": [],
   "source": [
    "df_nan = pd.DataFrame(pd.isnull(df.Rating))\n",
    "df_nan = df_nan[df_nan['Rating'] == True]\n",
    "df_nan = df_nan.reset_index()\n",
    "\n",
    "movie_np = []\n",
    "movie_id = 1\n",
    "\n",
    "for i,j in zip(df_nan['index'][1:],df_nan['index'][:-1]):\n",
    "    temp = np.full((1,i-j-1), movie_id)\n",
    "    movie_np = np.append(movie_np, temp)\n",
    "    movie_id += 1\n",
    "\n",
    "last_record = np.full((1,len(df) - df_nan.iloc[-1, 0] - 1),movie_id)\n",
    "movie_np = np.append(movie_np, last_record)"
   ]
  },
  {
   "cell_type": "code",
   "execution_count": null,
   "metadata": {},
   "outputs": [],
   "source": [
    "df = df[pd.notnull(df['Rating'])]\n",
    "df['Movie_Id'] = movie_np.astype(int)\n",
    "df['Customer ID'] = df['Customer ID'].astype(int)\n",
    "df['Rating'] = df['Rating'].astype(int)\n",
    "df=df.reset_index()"
   ]
  },
  {
   "cell_type": "code",
   "execution_count": null,
   "metadata": {
    "collapsed": true
   },
   "outputs": [],
   "source": [
    "df=df.drop([\"Date\",\"index\"],axis=1)"
   ]
  },
  {
   "cell_type": "code",
   "execution_count": null,
   "metadata": {
    "collapsed": true
   },
   "outputs": [],
   "source": [
    "df.to_csv('Data.csv')"
   ]
  },
  {
   "cell_type": "markdown",
   "metadata": {},
   "source": [
    "# Filtering ratings data of movies which have features in MovieLens dataset "
   ]
  },
  {
   "cell_type": "code",
   "execution_count": null,
   "metadata": {},
   "outputs": [],
   "source": [
    "df = pd.read_csv('Data.csv')"
   ]
  },
  {
   "cell_type": "code",
   "execution_count": null,
   "metadata": {
    "collapsed": true
   },
   "outputs": [],
   "source": [
    "df = df.drop([\"Unnamed: 0\"],axis=1)"
   ]
  },
  {
   "cell_type": "code",
   "execution_count": null,
   "metadata": {
    "collapsed": true,
    "scrolled": true
   },
   "outputs": [],
   "source": [
    "mov = pd.read_csv('out.csv')"
   ]
  },
  {
   "cell_type": "code",
   "execution_count": null,
   "metadata": {},
   "outputs": [],
   "source": [
    "mf = pd.read_csv('encode.csv')"
   ]
  },
  {
   "cell_type": "code",
   "execution_count": null,
   "metadata": {},
   "outputs": [],
   "source": [
    "label = mov['name']\n",
    "label = list(label)"
   ]
  },
  {
   "cell_type": "code",
   "execution_count": null,
   "metadata": {},
   "outputs": [],
   "source": [
    "mf['user_id'] = None"
   ]
  },
  {
   "cell_type": "code",
   "execution_count": null,
   "metadata": {},
   "outputs": [],
   "source": [
    "\n",
    "for i in range(len(mf)):\n",
    "    print(i)\n",
    "    for j in range (len(mf)):\n",
    "        if mf['movie_title'][i] == mov['name'][j]+str(' '):\n",
    "            mf['user_id'][i] = mov['label'][j]\n"
   ]
  },
  {
   "cell_type": "code",
   "execution_count": null,
   "metadata": {},
   "outputs": [],
   "source": [
    "mf.to_csv('movie_feature.csv')"
   ]
  },
  {
   "cell_type": "code",
   "execution_count": null,
   "metadata": {},
   "outputs": [],
   "source": [
    "if mov['name'][1]+str(' ') == mf['movie_title'][0]:\n",
    "    print('a')"
   ]
  },
  {
   "cell_type": "code",
   "execution_count": null,
   "metadata": {},
   "outputs": [],
   "source": [
    "t = []\n",
    "for i in range(len(dff)):\n",
    "    if dff['Movie_Id'][i] in label:\n",
    "        b = dff.iloc[i]\n",
    "        print(i)\n",
    "        t.append(b)"
   ]
  },
  {
   "cell_type": "code",
   "execution_count": null,
   "metadata": {
    "scrolled": true
   },
   "outputs": [],
   "source": [
    "a = pd.DataFrame(data = t)"
   ]
  },
  {
   "cell_type": "code",
   "execution_count": null,
   "metadata": {
    "collapsed": true
   },
   "outputs": [],
   "source": [
    "a.to_csv('k.csv')"
   ]
  },
  {
   "cell_type": "markdown",
   "metadata": {},
   "source": [
    "# Data abstract"
   ]
  },
  {
   "cell_type": "code",
   "execution_count": null,
   "metadata": {
    "collapsed": true
   },
   "outputs": [],
   "source": [
    "a = pd.read_csv('a.csv')\n",
    "b = pd.read_csv('b.csv')\n",
    "c = pd.read_csv('c.csv')\n",
    "d = pd.read_csv('d.csv')\n",
    "e = pd.read_csv('e.csv')\n",
    "f = pd.read_csv('f.csv')\n",
    "g = pd.read_csv('g.csv')\n",
    "h = pd.read_csv('h.csv')\n",
    "i = pd.read_csv('i.csv')\n",
    "j = pd.read_csv('j.csv')\n",
    "k = pd.read_csv('k.csv')\n",
    "z = pd.read_csv('z.csv')"
   ]
  },
  {
   "cell_type": "code",
   "execution_count": null,
   "metadata": {
    "collapsed": true
   },
   "outputs": [],
   "source": [
    "d1= a.append(b)\n",
    "d2= c.append(d)\n",
    "d3= e.append(f)\n",
    "d4= g.append(h)\n",
    "d5= i.append(j)\n",
    "d6= k.append(z)\n",
    "df= d1.append(d2)\n",
    "df= df.append(d3)\n",
    "df= df.append(d4)\n",
    "df= df.append(d5)\n",
    "df= df.append(d6)"
   ]
  },
  {
   "cell_type": "code",
   "execution_count": null,
   "metadata": {},
   "outputs": [],
   "source": [
    "df = df.drop([\"Unnamed: 0\"],axis=1)\n",
    "df=df.reset_index()\n",
    "df = df.drop([\"index\"],axis=1)"
   ]
  },
  {
   "cell_type": "code",
   "execution_count": null,
   "metadata": {
    "scrolled": true
   },
   "outputs": [],
   "source": [
    "df.to_csv('RateFinal.csv')"
   ]
  },
  {
   "cell_type": "code",
   "execution_count": 3,
   "metadata": {},
   "outputs": [],
   "source": [
    "df = pd.read_csv('RateFinal.csv')"
   ]
  },
  {
   "cell_type": "code",
   "execution_count": 4,
   "metadata": {
    "collapsed": true
   },
   "outputs": [],
   "source": [
    "df = df.drop([\"Unnamed: 0\"],axis=1)"
   ]
  },
  {
   "cell_type": "code",
   "execution_count": 5,
   "metadata": {
    "collapsed": true
   },
   "outputs": [],
   "source": [
    "p = df.groupby('Rating')['Rating'].agg(['count'])"
   ]
  },
  {
   "cell_type": "code",
   "execution_count": null,
   "metadata": {
    "collapsed": true
   },
   "outputs": [],
   "source": [
    "%config InlineBackend.figure_format = 'svg'"
   ]
  },
  {
   "cell_type": "code",
   "execution_count": null,
   "metadata": {},
   "outputs": [],
   "source": [
    "s = pd.value_counts(df[\"Movie_Id\"])\n",
    "movie_count = len(s)\n",
    "\n",
    "# get customer count\n",
    "cust_count = df['Customer ID'].nunique() \n",
    "\n",
    "# get rating count\n",
    "rating_count = df['Customer ID'].count() \n",
    "\n",
    "ax = p.plot(kind = 'barh',color = '#99cc33', legend = False, figsize = (15,10))\n",
    "plt.title('Total pool: {:,} Movies, {:,} customers, {:,} ratings given'.format(movie_count, cust_count, rating_count), fontsize=20)\n",
    "plt.axis('off')\n",
    "%config InlineBackend.figure_format = 'svg'\n",
    "for i in range(1,6):\n",
    "    ax.text(p.iloc[i-1][0]/4, i-1, 'Rating {}: {:.0f}%'.format(i, p.iloc[i-1][0]*100 / p.sum()[0]), color = 'white', weight = 'bold')\n",
    "    \n",
    "    \n",
    "plt.show()"
   ]
  },
  {
   "cell_type": "markdown",
   "metadata": {},
   "source": [
    "# Delete movie and customer data with few reviews"
   ]
  },
  {
   "cell_type": "code",
   "execution_count": 33,
   "metadata": {
    "collapsed": true
   },
   "outputs": [],
   "source": [
    "d1= df"
   ]
  },
  {
   "cell_type": "code",
   "execution_count": 34,
   "metadata": {},
   "outputs": [
    {
     "name": "stdout",
     "output_type": "stream",
     "text": [
      "Movie minimum times of review: 33227.0\n",
      "Customer minimum times of review: 162.0\n"
     ]
    }
   ],
   "source": [
    "f = ['count','mean']\n",
    "\n",
    "df_movie_summary = d1.groupby('Movie_Id')['Rating'].agg(f)\n",
    "df_movie_summary.index = df_movie_summary.index.map(int)\n",
    "movie_benchmark = round(df_movie_summary['count'].quantile(0.75),0)\n",
    "drop_movie_list = df_movie_summary[df_movie_summary['count'] < movie_benchmark].index\n",
    "\n",
    "print('Movie minimum times of review: {}'.format(movie_benchmark))\n",
    "\n",
    "df_cust_summary = d1.groupby('Customer ID')['Rating'].agg(f)\n",
    "df_cust_summary.index = df_cust_summary.index.map(int)\n",
    "cust_benchmark = round(df_cust_summary['count'].quantile(0.75),0)\n",
    "drop_cust_list = df_cust_summary[df_cust_summary['count'] < cust_benchmark].index\n",
    "\n",
    "print('Customer minimum times of review: {}'.format(cust_benchmark))"
   ]
  },
  {
   "cell_type": "code",
   "execution_count": 35,
   "metadata": {},
   "outputs": [
    {
     "name": "stdout",
     "output_type": "stream",
     "text": [
      "Original Shape: (58522356, 3)\n",
      "After Trim Shape: (27017553, 3)\n",
      "-Data Examples-\n",
      "          Customer ID  Rating  Movie_Id\n",
      "3346          2473170       5        30\n",
      "11266748      2648181       5      3864\n",
      "21774447      1404690       1      6844\n",
      "32552780       956035       4     10607\n",
      "43715749       176611       3     13728\n",
      "54439292      1614125       5     16668\n"
     ]
    }
   ],
   "source": [
    "print('Original Shape: {}'.format(d1.shape))\n",
    "d1 = d1[~d1['Movie_Id'].isin(drop_movie_list)]\n",
    "d1 = d1[~d1['Customer ID'].isin(drop_cust_list)]\n",
    "print('After Trim Shape: {}'.format(d1.shape))\n",
    "print('-Data Examples-')\n",
    "print(d1.iloc[::5000000, :])"
   ]
  },
  {
   "cell_type": "code",
   "execution_count": null,
   "metadata": {
    "collapsed": true
   },
   "outputs": [],
   "source": [
    "df_p = pd.pivot_table(d1,values='Rating',index='Customer ID',columns='Movie_Id')"
   ]
  },
  {
   "cell_type": "code",
   "execution_count": null,
   "metadata": {},
   "outputs": [],
   "source": [
    "df_p#.columns"
   ]
  },
  {
   "cell_type": "code",
   "execution_count": null,
   "metadata": {},
   "outputs": [],
   "source": [
    "df_title = pd.read_csv('out.csv', header = None, names = ['Name','Movie_Id', 'Year'])\n",
    "df_title.set_index('Movie_Id', inplace = True)\n",
    "df_title = df_title.drop('label', axis=0)\n",
    "print (df_title.head(10))"
   ]
  },
  {
   "cell_type": "code",
   "execution_count": null,
   "metadata": {
    "scrolled": true
   },
   "outputs": [],
   "source": [
    "df_title= df_title.reset_index()"
   ]
  },
  {
   "cell_type": "markdown",
   "metadata": {},
   "source": [
    "# Evaluation model with RMSE, MAE in CV"
   ]
  },
  {
   "cell_type": "code",
   "execution_count": null,
   "metadata": {},
   "outputs": [],
   "source": [
    "\n",
    "reader = Reader()\n",
    "\n",
    "\n",
    "data = Dataset.load_from_df(d1[['Customer ID', 'Movie_Id', 'Rating']], reader)\n",
    "\n",
    "data.split(n_folds=3)\n",
    "\n",
    "svd = SVD()\n",
    "\n",
    "evaluate(svd, data, measures=['RMSE', 'MAE'])\n"
   ]
  },
  {
   "cell_type": "markdown",
   "metadata": {},
   "source": [
    "# Recommendation system main function"
   ]
  },
  {
   "cell_type": "code",
   "execution_count": null,
   "metadata": {},
   "outputs": [],
   "source": [
    "reader = Reader()\n",
    "svd = SVD()\n",
    "data = Dataset.load_from_df(df[['Customer ID', 'Movie_Id', 'Rating']][:20000000], reader)\n",
    "trainset = data.build_full_trainset()\n",
    "svd.fit(trainset)"
   ]
  },
  {
   "cell_type": "code",
   "execution_count": null,
   "metadata": {
    "collapsed": true
   },
   "outputs": [],
   "source": [
    "def recsys(user_id):\n",
    "    df = df_title.copy()\n",
    "    df['Estimate_Score'] = df['Movie_Id'].apply(lambda x: svd.predict(user_id, x).est)\n",
    "\n",
    "    df = df.drop('Movie_Id', axis = 1)\n",
    "\n",
    "    df = df.sort_values('Estimate_Score', ascending=False)\n",
    "    print((df).head(10))"
   ]
  },
  {
   "cell_type": "code",
   "execution_count": null,
   "metadata": {},
   "outputs": [],
   "source": [
    "recsys(2649267)"
   ]
  },
  {
   "cell_type": "code",
   "execution_count": null,
   "metadata": {
    "collapsed": true
   },
   "outputs": [],
   "source": []
  }
 ],
 "metadata": {
  "kernelspec": {
   "display_name": "Python 3",
   "language": "python",
   "name": "python3"
  },
  "language_info": {
   "codemirror_mode": {
    "name": "ipython",
    "version": 3
   },
   "file_extension": ".py",
   "mimetype": "text/x-python",
   "name": "python",
   "nbconvert_exporter": "python",
   "pygments_lexer": "ipython3",
   "version": "3.6.1"
  }
 },
 "nbformat": 4,
 "nbformat_minor": 2
}
